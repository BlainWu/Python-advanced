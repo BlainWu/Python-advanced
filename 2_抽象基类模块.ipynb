{
 "cells": [
  {
   "cell_type": "code",
   "execution_count": 1,
   "metadata": {},
   "outputs": [
    {
     "data": {
      "text/plain": [
       "'\\n抽象类是一种特殊的类，这种类只能被继承，并且类中的抽象方法必须被实现。\\n比如，创建一个抽象的object类。\\n'"
      ]
     },
     "execution_count": 1,
     "metadata": {},
     "output_type": "execute_result"
    }
   ],
   "source": [
    "\"\"\"\n",
    "抽象类是一种特殊的类，这种类只能被继承，并且类中的抽象方法必须被实现。\n",
    "比如，创建一个抽象的phone类。手机有各种品牌，但是没有叫手机的手机品牌。\n",
    "同时，手机必须有屏幕，显示手机品牌。\n",
    "但是不一定能连接5G信号。\n",
    "\"\"\""
   ]
  },
  {
   "cell_type": "code",
   "execution_count": 2,
   "metadata": {},
   "outputs": [],
   "source": [
    "from abc import ABCMeta,abstractmethod"
   ]
  },
  {
   "cell_type": "code",
   "execution_count": 12,
   "metadata": {},
   "outputs": [],
   "source": [
    "'''\n",
    "创建一个phone类，抽象方法为screen_show,一般方法为support_5G\n",
    "'''\n",
    "class phone(metaclass=ABCMeta):\n",
    "    def __init__(self):\n",
    "        self.branch = None\n",
    "        self.support_5G = False\n",
    "        \n",
    "    @abstractmethod\n",
    "    def screen_show(self):\n",
    "        print(f'This phone is made by {self.branch}')\n",
    "        \n",
    "    def support_5G(self):\n",
    "        return self.support_5G"
   ]
  },
  {
   "cell_type": "code",
   "execution_count": 21,
   "metadata": {},
   "outputs": [
    {
     "ename": "TypeError",
     "evalue": "Can't instantiate abstract class phone with abstract methods screen_show",
     "output_type": "error",
     "traceback": [
      "\u001b[1;31m---------------------------------------------------------------------------\u001b[0m",
      "\u001b[1;31mTypeError\u001b[0m                                 Traceback (most recent call last)",
      "\u001b[1;32m<ipython-input-21-e8b93ac27cea>\u001b[0m in \u001b[0;36m<module>\u001b[1;34m\u001b[0m\n\u001b[1;32m----> 1\u001b[1;33m \u001b[0mcell_phone\u001b[0m \u001b[1;33m=\u001b[0m \u001b[0mphone\u001b[0m\u001b[1;33m(\u001b[0m\u001b[1;33m)\u001b[0m\u001b[1;33m\u001b[0m\u001b[1;33m\u001b[0m\u001b[0m\n\u001b[0m",
      "\u001b[1;31mTypeError\u001b[0m: Can't instantiate abstract class phone with abstract methods screen_show"
     ]
    }
   ],
   "source": [
    "\"\"\"\n",
    "直接生成实例会报错。\n",
    "\"\"\"\n",
    "cell_phone = phone()"
   ]
  },
  {
   "cell_type": "code",
   "execution_count": 9,
   "metadata": {},
   "outputs": [
    {
     "ename": "TypeError",
     "evalue": "Can't instantiate abstract class apple with abstract methods screen_show",
     "output_type": "error",
     "traceback": [
      "\u001b[1;31m---------------------------------------------------------------------------\u001b[0m",
      "\u001b[1;31mTypeError\u001b[0m                                 Traceback (most recent call last)",
      "\u001b[1;32m<ipython-input-9-176b3292ab16>\u001b[0m in \u001b[0;36m<module>\u001b[1;34m\u001b[0m\n\u001b[0;32m      3\u001b[0m         \u001b[0msuper\u001b[0m\u001b[1;33m(\u001b[0m\u001b[0mapple\u001b[0m\u001b[1;33m,\u001b[0m\u001b[0mself\u001b[0m\u001b[1;33m)\u001b[0m\u001b[1;33m.\u001b[0m\u001b[0m__init__\u001b[0m\u001b[1;33m(\u001b[0m\u001b[1;33m)\u001b[0m\u001b[1;33m\u001b[0m\u001b[1;33m\u001b[0m\u001b[0m\n\u001b[0;32m      4\u001b[0m \u001b[1;33m\u001b[0m\u001b[0m\n\u001b[1;32m----> 5\u001b[1;33m \u001b[0mmyphone\u001b[0m \u001b[1;33m=\u001b[0m \u001b[0mapple\u001b[0m\u001b[1;33m(\u001b[0m\u001b[1;33m)\u001b[0m\u001b[1;33m\u001b[0m\u001b[1;33m\u001b[0m\u001b[0m\n\u001b[0m\u001b[0;32m      6\u001b[0m \u001b[1;31m# TypeError: Can't instantiate abstract class apple with abstract methods screen_show\u001b[0m\u001b[1;33m\u001b[0m\u001b[1;33m\u001b[0m\u001b[1;33m\u001b[0m\u001b[0m\n",
      "\u001b[1;31mTypeError\u001b[0m: Can't instantiate abstract class apple with abstract methods screen_show"
     ]
    }
   ],
   "source": [
    "'''\n",
    "创建一个apple类，不创建任何方法，报错。\n",
    "'''\n",
    "class apple(phone):\n",
    "    def __init__(self):\n",
    "        super(apple,self).__init__()\n",
    "\n",
    "myphone = apple()\n",
    "# TypeError: Can't instantiate abstract class apple with abstract methods screen_show"
   ]
  },
  {
   "cell_type": "code",
   "execution_count": 18,
   "metadata": {},
   "outputs": [
    {
     "name": "stdout",
     "output_type": "stream",
     "text": [
      "This phone is made by apple\n"
     ]
    }
   ],
   "source": [
    "'''\n",
    "创建一个apple类，只创建抽象方法不报错。\n",
    "'''\n",
    "class apple(phone):\n",
    "    def __init__(self):\n",
    "        super(apple,self).__init__()\n",
    "        \n",
    "    def screen_show(self):\n",
    "        self.branch = 'apple'\n",
    "        super().screen_show()\n",
    "        \n",
    "myphone = apple()\n",
    "myphone.screen_show()\n",
    "# This phone is made by apple"
   ]
  },
  {
   "cell_type": "code",
   "execution_count": 16,
   "metadata": {},
   "outputs": [
    {
     "ename": "TypeError",
     "evalue": "Can't instantiate abstract class apple with abstract methods screen_show",
     "output_type": "error",
     "traceback": [
      "\u001b[1;31m---------------------------------------------------------------------------\u001b[0m",
      "\u001b[1;31mTypeError\u001b[0m                                 Traceback (most recent call last)",
      "\u001b[1;32m<ipython-input-16-efa90bf8eda3>\u001b[0m in \u001b[0;36m<module>\u001b[1;34m\u001b[0m\n\u001b[0;32m      6\u001b[0m         \u001b[1;32mpass\u001b[0m\u001b[1;33m\u001b[0m\u001b[1;33m\u001b[0m\u001b[0m\n\u001b[0;32m      7\u001b[0m \u001b[1;33m\u001b[0m\u001b[0m\n\u001b[1;32m----> 8\u001b[1;33m \u001b[0mmyphone\u001b[0m \u001b[1;33m=\u001b[0m \u001b[0mapple\u001b[0m\u001b[1;33m(\u001b[0m\u001b[1;33m)\u001b[0m\u001b[1;33m\u001b[0m\u001b[1;33m\u001b[0m\u001b[0m\n\u001b[0m\u001b[0;32m      9\u001b[0m \u001b[0mmyphone\u001b[0m\u001b[1;33m.\u001b[0m\u001b[0msupport_5G\u001b[0m\u001b[1;33m(\u001b[0m\u001b[1;33m)\u001b[0m\u001b[1;33m\u001b[0m\u001b[1;33m\u001b[0m\u001b[0m\n\u001b[0;32m     10\u001b[0m \u001b[1;31m# This phone is made by apple\u001b[0m\u001b[1;33m\u001b[0m\u001b[1;33m\u001b[0m\u001b[1;33m\u001b[0m\u001b[0m\n",
      "\u001b[1;31mTypeError\u001b[0m: Can't instantiate abstract class apple with abstract methods screen_show"
     ]
    }
   ],
   "source": [
    "'''\n",
    "创建一个apple类，只创建一般方法报错。\n",
    "'''\n",
    "class apple(phone):\n",
    "    def __init__(self):\n",
    "        super(apple,self).__init__()\n",
    "        \n",
    "    def support_5G(self):\n",
    "        pass\n",
    "        \n",
    "myphone = apple()\n",
    "myphone.support_5G()\n",
    "\n",
    "# TypeError: Can't instantiate abstract class apple with abstract methods screen_show"
   ]
  },
  {
   "cell_type": "code",
   "execution_count": 20,
   "metadata": {},
   "outputs": [
    {
     "data": {
      "text/plain": [
       "False"
      ]
     },
     "execution_count": 20,
     "metadata": {},
     "output_type": "execute_result"
    }
   ],
   "source": [
    "'''\n",
    "创建一个apple类，只创建一般方法报错。\n",
    "*同时注意一下，如果方法返回的是bool值，默认使用了property装饰器。\n",
    "'''\n",
    "class apple(phone):\n",
    "    def __init__(self):\n",
    "        super(apple,self).__init__()\n",
    "        \n",
    "    def support_5G(self):\n",
    "        pass\n",
    "    \n",
    "    def screen_show(self):\n",
    "        self.branch = 'apple'\n",
    "        super().screen_show()\n",
    "        \n",
    "myphone = apple()\n",
    "myphone.support_5G\n"
   ]
  }
 ],
 "metadata": {
  "kernelspec": {
   "display_name": "Python 3",
   "language": "python",
   "name": "python3"
  },
  "language_info": {
   "codemirror_mode": {
    "name": "ipython",
    "version": 3
   },
   "file_extension": ".py",
   "mimetype": "text/x-python",
   "name": "python",
   "nbconvert_exporter": "python",
   "pygments_lexer": "ipython3",
   "version": "3.7.3"
  }
 },
 "nbformat": 4,
 "nbformat_minor": 2
}
