{
 "cells": [
  {
   "cell_type": "code",
   "execution_count": 1,
   "metadata": {},
   "outputs": [
    {
     "data": {
      "text/plain": [
       "'\\n*args和**kwargs分别代表着arguments和keyword arguments，\\n当函数参数里包含他们的时候，函数参数的长度是可以变化的。\\n*args用来保存tuple型的值，而**kwargs用来保存保存字典类型的值。\\n值得一说的是，起作用的其实是*号，而非args和kwargs，其他单词也可以。\\n'"
      ]
     },
     "execution_count": 1,
     "metadata": {},
     "output_type": "execute_result"
    }
   ],
   "source": [
    "\"\"\"\n",
    "*args和**kwargs分别代表着arguments和keyword arguments，\n",
    "当函数参数里包含他们的时候，函数参数的长度是可以变化的。\n",
    "*args用来保存tuple型的值，而**kwargs用来保存保存字典类型的值。\n",
    "值得一说的是，起作用的其实是*号，而非args和kwargs，其他单词也可以。\n",
    "*和**还可以用来解包数组和字典。\n",
    "\"\"\""
   ]
  },
  {
   "cell_type": "code",
   "execution_count": 6,
   "metadata": {},
   "outputs": [
    {
     "ename": "TypeError",
     "evalue": "varible_function() takes 1 positional argument but 2 were given",
     "output_type": "error",
     "traceback": [
      "\u001b[1;31m---------------------------------------------------------------------------\u001b[0m",
      "\u001b[1;31mTypeError\u001b[0m                                 Traceback (most recent call last)",
      "\u001b[1;32m<ipython-input-6-c8ae50d0674c>\u001b[0m in \u001b[0;36m<module>\u001b[1;34m\u001b[0m\n\u001b[0;32m      6\u001b[0m     \u001b[0mprint\u001b[0m\u001b[1;33m(\u001b[0m\u001b[1;34mf'Original argument is {a}'\u001b[0m\u001b[1;33m)\u001b[0m\u001b[1;33m\u001b[0m\u001b[1;33m\u001b[0m\u001b[0m\n\u001b[0;32m      7\u001b[0m \u001b[1;33m\u001b[0m\u001b[0m\n\u001b[1;32m----> 8\u001b[1;33m \u001b[0mvarible_function\u001b[0m\u001b[1;33m(\u001b[0m\u001b[1;36m1\u001b[0m\u001b[1;33m,\u001b[0m\u001b[1;36m2\u001b[0m\u001b[1;33m)\u001b[0m\u001b[1;33m\u001b[0m\u001b[1;33m\u001b[0m\u001b[0m\n\u001b[0m\u001b[0;32m      9\u001b[0m \u001b[1;31m# TypeError: varible_function() missing 1 required positional argument: 'a'\u001b[0m\u001b[1;33m\u001b[0m\u001b[1;33m\u001b[0m\u001b[1;33m\u001b[0m\u001b[0m\n",
      "\u001b[1;31mTypeError\u001b[0m: varible_function() takes 1 positional argument but 2 were given"
     ]
    }
   ],
   "source": [
    "\"\"\"\n",
    "缺少参数a，报错。\n",
    "同理，多了也会报错。\n",
    "\"\"\"\n",
    "def varible_function(a):\n",
    "    print(f'Original argument is {a}')\n",
    "\n",
    "varible_function(1,2)\n",
    "# TypeError: varible_function() missing 1 required positional argument: 'a'"
   ]
  },
  {
   "cell_type": "code",
   "execution_count": 3,
   "metadata": {},
   "outputs": [
    {
     "name": "stdout",
     "output_type": "stream",
     "text": [
      "Original argument is 1\n"
     ]
    }
   ],
   "source": [
    "\"\"\"\n",
    "有一个参数，正常。\n",
    "\"\"\"\n",
    "def varible_function(a):\n",
    "    print(f'Original argument is {a}')\n",
    "\n",
    "varible_function(1)\n",
    "# Original argument is 1"
   ]
  },
  {
   "cell_type": "code",
   "execution_count": 7,
   "metadata": {},
   "outputs": [
    {
     "name": "stdout",
     "output_type": "stream",
     "text": [
      "Original argument is 1\n"
     ]
    }
   ],
   "source": [
    "\"\"\"\n",
    "有一个参数，正常。\n",
    "\"\"\"\n",
    "def varible_function(a,*args,**kwargs):\n",
    "    print(f'Original argument is {a}')\n",
    "    if args:\n",
    "        print(f'Tuple arguments are {args}')\n",
    "    if kwargs:\n",
    "        print(f'Dict arguments are {kwargs}')\n",
    "varible_function(1)\n",
    "# Original argument is 1"
   ]
  },
  {
   "cell_type": "code",
   "execution_count": 12,
   "metadata": {},
   "outputs": [
    {
     "name": "stdout",
     "output_type": "stream",
     "text": [
      "Original argument is 1\n",
      "Tuple arguments are (2, 3, 4)\n"
     ]
    }
   ],
   "source": [
    "\"\"\"\n",
    "有四个普通参数，正常。\n",
    "\"\"\"\n",
    "def varible_function(a,*args,**kwargs):\n",
    "    print(f'Original argument is {a}')\n",
    "    if args:\n",
    "        print(f'Tuple arguments are {args}')\n",
    "    if kwargs:\n",
    "        print(f'Dict arguments are {kwargs}')\n",
    "varible_function(1,2,3,4)\n",
    "\n",
    "\"\"\"\n",
    "Original argument is 1\n",
    "Tuple arguments are (2, 3, 4)\n",
    "\"\"\""
   ]
  },
  {
   "cell_type": "code",
   "execution_count": 13,
   "metadata": {},
   "outputs": [
    {
     "name": "stdout",
     "output_type": "stream",
     "text": [
      "Original argument is 1\n",
      "Tuple arguments are (2, 3)\n",
      "Dict arguments are {'fourth': 4}\n"
     ]
    }
   ],
   "source": [
    "\"\"\"\n",
    "有四个参数，带关键字参数，正常。\n",
    "\"\"\"\n",
    "def varible_function(a,*args,**kwargs):\n",
    "    print(f'Original argument is {a}')\n",
    "    if args:\n",
    "        print(f'Tuple arguments are {args}')\n",
    "    if kwargs:\n",
    "        print(f'Dict arguments are {kwargs}')\n",
    "varible_function(1,2,3,fourth = 4)\n",
    "\n",
    "\"\"\"\n",
    "Original argument is 1\n",
    "Tuple arguments are (2, 3)\n",
    "Dict arguments are {'fourth': 4}\n",
    "\"\"\""
   ]
  },
  {
   "cell_type": "code",
   "execution_count": 19,
   "metadata": {},
   "outputs": [
    {
     "ename": "SyntaxError",
     "evalue": "positional argument follows keyword argument (<ipython-input-19-0da0cb4f4b65>, line 10)",
     "output_type": "error",
     "traceback": [
      "\u001b[1;36m  File \u001b[1;32m\"<ipython-input-19-0da0cb4f4b65>\"\u001b[1;36m, line \u001b[1;32m10\u001b[0m\n\u001b[1;33m    varible_function(1,fourth = 4,2,3)\u001b[0m\n\u001b[1;37m                                 ^\u001b[0m\n\u001b[1;31mSyntaxError\u001b[0m\u001b[1;31m:\u001b[0m positional argument follows keyword argument\n"
     ]
    }
   ],
   "source": [
    "\"\"\"\n",
    "需要注意的是，普通参数必须在带关键字参数的前面。\n",
    "\"\"\"\n",
    "def varible_function(a,*args,**kwargs):\n",
    "    print(f'Original argument is {a}')\n",
    "    if args:\n",
    "        print(f'Tuple arguments are {args}')\n",
    "    if kwargs:\n",
    "        print(f'Dict arguments are {kwargs}')\n",
    "varible_function(1,fourth = 4,2,3)\n",
    "\n",
    "\"\"\"\n",
    "  File \"<ipython-input-19-0da0cb4f4b65>\", line 10\n",
    "    varible_function(1,fourth = 4,2,3)\n",
    "                                 ^\n",
    "SyntaxError: positional argument follows keyword argument\n",
    "\"\"\""
   ]
  },
  {
   "cell_type": "code",
   "execution_count": 24,
   "metadata": {},
   "outputs": [
    {
     "name": "stdout",
     "output_type": "stream",
     "text": [
      "The list is 1,2,3\n"
     ]
    }
   ],
   "source": [
    "\"\"\"*和**既可以用来打包位置参数和关键字参数，同样也可以解包\"\"\"\n",
    "def show_list(a,b,c):\n",
    "    print(f'The list is {a},{b},{c}')\n",
    "    \n",
    "list_a = [1,2,3]\n",
    "\n",
    "show_list(*list_a)"
   ]
  },
  {
   "cell_type": "code",
   "execution_count": 38,
   "metadata": {},
   "outputs": [
    {
     "name": "stdout",
     "output_type": "stream",
     "text": [
      "The list is 4,5,6\n",
      "The list is a,b,c\n"
     ]
    }
   ],
   "source": [
    "\"\"\"\n",
    "注意，关键字解包的时候，如果是解包字典的值（即**）则变量的名必须一一对应。\n",
    "当使用*解包字典的时候，只会传入名，且不在意名。\n",
    "\"\"\"\n",
    "def show_list(a,b,c):\n",
    "    print(f'The list is {a},{b},{c}')\n",
    "    \n",
    "dict_a = {'a': 4,'b': 5,'c' : '6'}\n",
    "\n",
    "show_list(**dict_a)  #The list is 4,5,6\n",
    "show_list(*dict_a)   #The list is a,b,c"
   ]
  }
 ],
 "metadata": {
  "kernelspec": {
   "display_name": "Python 3",
   "language": "python",
   "name": "python3"
  },
  "language_info": {
   "codemirror_mode": {
    "name": "ipython",
    "version": 3
   },
   "file_extension": ".py",
   "mimetype": "text/x-python",
   "name": "python",
   "nbconvert_exporter": "python",
   "pygments_lexer": "ipython3",
   "version": "3.7.3"
  }
 },
 "nbformat": 4,
 "nbformat_minor": 2
}
