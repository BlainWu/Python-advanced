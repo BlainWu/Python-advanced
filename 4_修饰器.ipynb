{
 "cells": [
  {
   "cell_type": "code",
   "execution_count": 1,
   "metadata": {},
   "outputs": [
    {
     "name": "stdout",
     "output_type": "stream",
     "text": [
      "Hello,world.\n",
      "Hello,world.\n",
      "<function hello_world at 0x00000244126ED160>\n",
      "<function hello_world at 0x00000244126ED160>\n"
     ]
    }
   ],
   "source": [
    "#一切皆函数，不需要括号\n",
    "#函数名称其实本身就是一个指针地址，加了括号以后为函数\n",
    "def hello_world():\n",
    "    return 'Hello,world.'\n",
    "print(hello_world())\n",
    "\n",
    "new_func = hello_world\n",
    "print(new_func())\n",
    "\n",
    "print(hello_world)\n",
    "print(new_func)"
   ]
  },
  {
   "cell_type": "code",
   "execution_count": 2,
   "metadata": {},
   "outputs": [
    {
     "name": "stdout",
     "output_type": "stream",
     "text": [
      "This function return another function.\n",
      "Hello,world.\n",
      "This function return another function.\n",
      "Hello,world.\n"
     ]
    }
   ],
   "source": [
    "#这也意味着，一个函数返回另一个函数的指针\n",
    "def return_a_func():\n",
    "    print('This function return another function.')\n",
    "    def any_name():\n",
    "        return \"Hello,world.\"\n",
    "    \n",
    "    return any_name\n",
    "\n",
    "a = return_a_func()\n",
    "\n",
    "print(a())\n",
    "\n",
    "b = return_a_func\n",
    "\n",
    "print(b()())"
   ]
  },
  {
   "cell_type": "code",
   "execution_count": 3,
   "metadata": {},
   "outputs": [
    {
     "name": "stdout",
     "output_type": "stream",
     "text": [
      "Hello, world.\n",
      "--------------------------------\n",
      "Before executing.\n",
      "Hello, world.\n",
      "After executing.\n"
     ]
    }
   ],
   "source": [
    "#综上，我们可以做一个修饰器的原型机\n",
    "def my_decorator(target_func):\n",
    "    def wrap_the_func():\n",
    "        print(\"Before executing.\")\n",
    "        target_func()\n",
    "        print(\"After executing.\")\n",
    "    return wrap_the_func\n",
    "\n",
    "def hello_world():\n",
    "    print(\"Hello, world.\")\n",
    "\n",
    "hello_world()\n",
    "\n",
    "print(\"--------------------------------\")\n",
    "\n",
    "new_func = my_decorator(hello_world)\n",
    "new_func()"
   ]
  },
  {
   "cell_type": "code",
   "execution_count": 4,
   "metadata": {},
   "outputs": [
    {
     "name": "stdout",
     "output_type": "stream",
     "text": [
      "Before executing.\n",
      "Hello,world\n",
      "After executing.\n"
     ]
    }
   ],
   "source": [
    "#为了方便，可以使用@来作修饰。\n",
    "#这里的@ 只是 hello_world = my_decorator(hello_world)的缩写。\n",
    "@my_decorator\n",
    "def hello_world():\n",
    "    print(\"Hello,world\")\n",
    "hello_world()"
   ]
  },
  {
   "cell_type": "code",
   "execution_count": 5,
   "metadata": {},
   "outputs": [
    {
     "name": "stdout",
     "output_type": "stream",
     "text": [
      "Function name is:  wrap_the_func\n"
     ]
    }
   ],
   "source": [
    "#上面的例子已经完成了修饰器的工作，但是有个小问题\n",
    "#修饰函数重写了函数的名称和注释文档\n",
    "#为了解决这个问题，python提供了functools.wraps来解决\n",
    "print(\"Function name is: \",hello_world.__name__)"
   ]
  },
  {
   "cell_type": "code",
   "execution_count": 6,
   "metadata": {},
   "outputs": [
    {
     "name": "stdout",
     "output_type": "stream",
     "text": [
      "Before executing.\n",
      "Hello,world.\n",
      "After executing.\n",
      "Function name is:  hello_world\n"
     ]
    }
   ],
   "source": [
    "from functools import wraps\n",
    "def my_decorator(target_func):\n",
    "    @wraps(target_func)\n",
    "    def wrap_the_func():\n",
    "        print(\"Before executing.\")\n",
    "        target_func()\n",
    "        print(\"After executing.\")\n",
    "        \n",
    "    return wrap_the_func\n",
    "\n",
    "@my_decorator\n",
    "def hello_world():\n",
    "    print(\"Hello,world.\")\n",
    "    \n",
    "hello_world()\n",
    "print(\"Function name is: \",hello_world.__name__)"
   ]
  },
  {
   "cell_type": "code",
   "execution_count": 7,
   "metadata": {},
   "outputs": [
    {
     "name": "stdout",
     "output_type": "stream",
     "text": [
      "Hello,world.\n"
     ]
    }
   ],
   "source": [
    "#如果想使用未被修饰的函数。\n",
    "hello = hello_world.__wrapped__\n",
    "hello()"
   ]
  },
  {
   "cell_type": "code",
   "execution_count": null,
   "metadata": {},
   "outputs": [],
   "source": []
  }
 ],
 "metadata": {
  "kernelspec": {
   "display_name": "Python 3",
   "language": "python",
   "name": "python3"
  },
  "language_info": {
   "codemirror_mode": {
    "name": "ipython",
    "version": 3
   },
   "file_extension": ".py",
   "mimetype": "text/x-python",
   "name": "python",
   "nbconvert_exporter": "python",
   "pygments_lexer": "ipython3",
   "version": "3.8.5"
  }
 },
 "nbformat": 4,
 "nbformat_minor": 4
}
