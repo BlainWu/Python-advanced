{
 "cells": [
  {
   "cell_type": "code",
   "execution_count": 1,
   "metadata": {},
   "outputs": [],
   "source": [
    "\"\"\"\n",
    "1、------------------------------------------------------------------\n",
    "迭代器就是实现迭代协议的容器对象；实现迭代器基于next和__iter__方法\n",
    "\"\"\""
   ]
  },
  {
   "cell_type": "code",
   "execution_count": 6,
   "metadata": {},
   "outputs": [
    {
     "data": {
      "text/plain": [
       "'peilin'"
      ]
     },
     "execution_count": 6,
     "metadata": {},
     "output_type": "execute_result"
    }
   ],
   "source": [
    "\"\"\"\n",
    "1.1、-----------------------------------------------------------------\n",
    "迭代器生成方法1：使用内部函数iter和序列来创建\n",
    "当next超过列表的时候，会抛出StopIteration错误\n",
    "\"\"\"\n",
    "\n",
    "name = [\"peilin\",\"wu\"]\n",
    "i = iter(name)\n",
    "next(i)"
   ]
  },
  {
   "cell_type": "code",
   "execution_count": 7,
   "metadata": {},
   "outputs": [
    {
     "data": {
      "text/plain": [
       "'wu'"
      ]
     },
     "execution_count": 7,
     "metadata": {},
     "output_type": "execute_result"
    }
   ],
   "source": [
    "next(i)"
   ]
  },
  {
   "cell_type": "code",
   "execution_count": 8,
   "metadata": {},
   "outputs": [
    {
     "ename": "StopIteration",
     "evalue": "",
     "output_type": "error",
     "traceback": [
      "\u001b[1;31m---------------------------------------------------------------------------\u001b[0m",
      "\u001b[1;31mStopIteration\u001b[0m                             Traceback (most recent call last)",
      "\u001b[1;32m<ipython-input-8-a883b34d6d8a>\u001b[0m in \u001b[0;36m<module>\u001b[1;34m\u001b[0m\n\u001b[1;32m----> 1\u001b[1;33m \u001b[0mnext\u001b[0m\u001b[1;33m(\u001b[0m\u001b[0mi\u001b[0m\u001b[1;33m)\u001b[0m\u001b[1;33m\u001b[0m\u001b[1;33m\u001b[0m\u001b[0m\n\u001b[0m",
      "\u001b[1;31mStopIteration\u001b[0m: "
     ]
    }
   ],
   "source": [
    "next(i)"
   ]
  },
  {
   "cell_type": "code",
   "execution_count": 17,
   "metadata": {},
   "outputs": [],
   "source": [
    "\"\"\"\n",
    "1.2、------------------------------------------------------------------\n",
    "迭代器生成方法2：自定义带有next方法的类\n",
    "这个类需要实现__next__和__iter__两个方法 ,实现一个range函数\n",
    "\"\"\"\n",
    "\n",
    "class my_range:\n",
    "    def __init__(self,start,end,step):\n",
    "        self.start = start\n",
    "        self.end = end\n",
    "        self.step = step\n",
    "        self.record = start\n",
    "    def __iter__(self):\n",
    "        return self\n",
    "    def __next__(self):\n",
    "        # 超出的话，raise错误才能停止\n",
    "        self.record += self.step\n",
    "        if self.record > self.end :\n",
    "            raise StopIteration\n",
    "        return self.record"
   ]
  },
  {
   "cell_type": "code",
   "execution_count": 18,
   "metadata": {},
   "outputs": [
    {
     "name": "stdout",
     "output_type": "stream",
     "text": [
      "2\n",
      "4\n",
      "6\n",
      "8\n"
     ]
    }
   ],
   "source": [
    "for num in my_range(0,8,2):\n",
    "    print(num)"
   ]
  },
  {
   "cell_type": "code",
   "execution_count": 40,
   "metadata": {},
   "outputs": [],
   "source": [
    "\"\"\"\n",
    "2.1、----------------------------------------------------------------\n",
    "在Python中，使用yield的函数都可以被称为是生成器generator。\n",
    "生成器相对来说比较简单，只要函数使用了yield就可以调用next。\n",
    "注意，这样的函数只能调用一次next，所以必须在函数内使用while来一直输出,直到StopIteration。\n",
    "\"\"\"\n",
    "def my_range(start,end,step):\n",
    "    record = start\n",
    "    while record <= end:\n",
    "        yield record\n",
    "        record += step\n",
    "\n",
    "my_gen = my_range(0,8,2)"
   ]
  },
  {
   "cell_type": "code",
   "execution_count": 41,
   "metadata": {},
   "outputs": [
    {
     "data": {
      "text/plain": [
       "0"
      ]
     },
     "execution_count": 41,
     "metadata": {},
     "output_type": "execute_result"
    }
   ],
   "source": [
    "next(my_gen)"
   ]
  },
  {
   "cell_type": "code",
   "execution_count": 42,
   "metadata": {},
   "outputs": [
    {
     "name": "stdout",
     "output_type": "stream",
     "text": [
      "0\n",
      "2\n",
      "4\n",
      "6\n"
     ]
    }
   ],
   "source": [
    "\"\"\"\n",
    "2.2、----------------------------------------------------------------\n",
    "使用生成器表达式可以更简便地生成generator。\n",
    "重点在于使用的是 圆括号。\n",
    "\"\"\"\n",
    "my_gen = (x for x in range(0,8,2))\n",
    "for el in my_gen:\n",
    "    print(el)"
   ]
  },
  {
   "cell_type": "code",
   "execution_count": null,
   "metadata": {},
   "outputs": [],
   "source": []
  }
 ],
 "metadata": {
  "kernelspec": {
   "display_name": "Python 3",
   "language": "python",
   "name": "python3"
  },
  "language_info": {
   "codemirror_mode": {
    "name": "ipython",
    "version": 3
   },
   "file_extension": ".py",
   "mimetype": "text/x-python",
   "name": "python",
   "nbconvert_exporter": "python",
   "pygments_lexer": "ipython3",
   "version": "3.8.5"
  }
 },
 "nbformat": 4,
 "nbformat_minor": 4
}
